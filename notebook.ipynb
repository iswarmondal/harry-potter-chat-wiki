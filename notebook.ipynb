{
 "cells": [
  {
   "cell_type": "code",
   "execution_count": null,
   "metadata": {},
   "outputs": [],
   "source": [
    "%pip install OpenAI llama-index nest-asyncio python-dotenv"
   ]
  },
  {
   "cell_type": "markdown",
   "id": "ba7e1553",
   "metadata": {},
   "source": [
    "#### OpenAI API key from env file"
   ]
  },
  {
   "cell_type": "code",
   "execution_count": null,
   "id": "8096e65b",
   "metadata": {},
   "outputs": [],
   "source": [
    "import os\n",
    "from dotenv import load_dotenv\n",
    "load_dotenv()\n",
    "OPENAI_API_KEY = os.getenv('OPENAI_API_KEY')"
   ]
  },
  {
   "cell_type": "code",
   "execution_count": 3,
   "id": "3d3c3916",
   "metadata": {},
   "outputs": [],
   "source": [
    "import nest_asyncio\n",
    "\n",
    "nest_asyncio.apply()"
   ]
  },
  {
   "cell_type": "markdown",
   "id": "bd7314c4",
   "metadata": {},
   "source": [
    "#### Loading and splitting the doc with LlamaIndex"
   ]
  },
  {
   "cell_type": "code",
   "execution_count": 6,
   "id": "dbebc014",
   "metadata": {},
   "outputs": [],
   "source": [
    "from llama_index.core import SimpleDirectoryReader\n",
    "from llama_index.core.node_parser import SentenceSplitter\n",
    "\n",
    "documents = SimpleDirectoryReader(input_files=[\"./data/Harry Potter Collection 1-4.pdf\"]).load_data()\n",
    "\n",
    "#split the document\n",
    "splitter = SentenceSplitter(chunk_size=1023)\n",
    "nodes = splitter.get_nodes_from_documents(documents)"
   ]
  },
  {
   "cell_type": "markdown",
   "id": "94928dcd",
   "metadata": {},
   "source": [
    "### Embedding and vector index"
   ]
  },
  {
   "cell_type": "code",
   "execution_count": 7,
   "id": "d872e331",
   "metadata": {},
   "outputs": [],
   "source": [
    "from llama_index.core.settings import Settings\n",
    "from llama_index.llms.openai import OpenAI\n",
    "from llama_index.embeddings.openai import OpenAIEmbedding\n",
    "\n",
    "Settings.llm = OpenAI(model=\"gpt-3.5-turbo\")\n",
    "Settings.embed_model = OpenAIEmbedding(model=\"text-embedding-ada-002\")"
   ]
  },
  {
   "cell_type": "code",
   "execution_count": 8,
   "id": "3d4b23eb",
   "metadata": {},
   "outputs": [],
   "source": [
    "from llama_index.core import VectorStoreIndex\n",
    "\n",
    "vector_index = VectorStoreIndex(nodes)"
   ]
  },
  {
   "cell_type": "markdown",
   "id": "1b3475d6",
   "metadata": {},
   "source": [
    "### The query engine"
   ]
  },
  {
   "cell_type": "code",
   "execution_count": 9,
   "id": "9c240aea",
   "metadata": {},
   "outputs": [],
   "source": [
    "query_engine = vector_index.as_query_engine()"
   ]
  },
  {
   "cell_type": "markdown",
   "id": "3357bea4",
   "metadata": {},
   "source": [
    "### Test"
   ]
  },
  {
   "cell_type": "code",
   "execution_count": 12,
   "id": "fcf98dfd",
   "metadata": {},
   "outputs": [
    {
     "name": "stdout",
     "output_type": "stream",
     "text": [
      "To defeat Lord Voldemort, one must be prepared to face him directly, stand upright, and be willing to defend oneself even when the situation seems hopeless. It involves confronting Voldemort with courage and determination, as demonstrated by Harry Potter in the given context. Additionally, seeking support from allies, such as Dumbledore's advice to take necessary measures like removing Azkaban from the control of the dementors and reaching out to potential allies like the giants, can also contribute to defeating Voldemort.\n"
     ]
    }
   ],
   "source": [
    "response = query_engine.query(\"How to defeat lord Voldemort?\")\n",
    "print(str(response))"
   ]
  }
 ],
 "metadata": {
  "kernelspec": {
   "display_name": "Python 3",
   "language": "python",
   "name": "python3"
  },
  "language_info": {
   "codemirror_mode": {
    "name": "ipython",
    "version": 3
   },
   "file_extension": ".py",
   "mimetype": "text/x-python",
   "name": "python",
   "nbconvert_exporter": "python",
   "pygments_lexer": "ipython3",
   "version": "3.9.6"
  }
 },
 "nbformat": 4,
 "nbformat_minor": 5
}
